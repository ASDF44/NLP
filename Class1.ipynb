{
  "nbformat": 4,
  "nbformat_minor": 0,
  "metadata": {
    "colab": {
      "name": "A.ipynb",
      "provenance": [],
      "include_colab_link": true
    },
    "kernelspec": {
      "name": "python3",
      "display_name": "Python 3"
    }
  },
  "cells": [
    {
      "cell_type": "markdown",
      "metadata": {
        "id": "view-in-github",
        "colab_type": "text"
      },
      "source": [
        "<a href=\"https://colab.research.google.com/github/ASDF44/NLP/blob/master/Class1.ipynb\" target=\"_parent\"><img src=\"https://colab.research.google.com/assets/colab-badge.svg\" alt=\"Open In Colab\"/></a>"
      ]
    },
    {
      "cell_type": "code",
      "metadata": {
        "id": "3oOh64GRz7qu",
        "colab_type": "code",
        "outputId": "6060f0f7-e065-4dfa-9a09-97310fb8f16f",
        "colab": {
          "base_uri": "https://localhost:8080/",
          "height": 34
        }
      },
      "source": [
        "s = 'Shakespeare didn\\'t gave the world best of theatrics'\n",
        "s"
      ],
      "execution_count": 0,
      "outputs": [
        {
          "output_type": "execute_result",
          "data": {
            "text/plain": [
              "\"Shakespeare didn't gave the world best of theatrics\""
            ]
          },
          "metadata": {
            "tags": []
          },
          "execution_count": 14
        }
      ]
    },
    {
      "cell_type": "code",
      "metadata": {
        "id": "2qxp5_Dy0H30",
        "colab_type": "code",
        "outputId": "59957650-edcb-4480-bb5e-61dc02515663",
        "colab": {
          "base_uri": "https://localhost:8080/",
          "height": 54
        }
      },
      "source": [
        "s = \"\"\"William Shakespeare (bapt. 26 April 1564 – 23 April\n",
        " 1616)[a] was an English poet, playwright\n",
        " , and actor, widely regarded as the greatest writer\n",
        "  in the English language and the world's greatest dramatist\n",
        "  .[2][3][4] He is often\n",
        "   called England's national poet and the \"Bard of Avon\n",
        "   \" (or simply \"the Bard\").[5][b]\n",
        "    His extant works, including collaborations, consist of some\n",
        "     39 plays,[c] 154 sonnets, two long\n",
        "      narrative poems, and a few other verses, some of uncertain authorship. His plays have been translated into every major living language and are performed more often than those of any other playwright.[7]\"\"\"\n",
        "s\n",
        "\n"
      ],
      "execution_count": 0,
      "outputs": [
        {
          "output_type": "execute_result",
          "data": {
            "text/plain": [
              "'William Shakespeare (bapt. 26 April 1564 – 23 April\\n 1616)[a] was an English poet, playwright\\n , and actor, widely regarded as the greatest writer\\n  in the English language and the world\\'s greatest dramatist\\n  .[2][3][4] He is often\\n   called England\\'s national poet and the \"Bard of Avon\\n   \" (or simply \"the Bard\").[5][b]\\n    His extant works, including collaborations, consist of some\\n     39 plays,[c] 154 sonnets, two long\\n      narrative poems, and a few other verses, some of uncertain authorship. His plays have been translated into every major living language and are performed more often than those of any other playwright.[7]'"
            ]
          },
          "metadata": {
            "tags": []
          },
          "execution_count": 12
        }
      ]
    },
    {
      "cell_type": "code",
      "metadata": {
        "id": "z3063V9Z0ohs",
        "colab_type": "code",
        "outputId": "27eb2529-19e5-4477-cca6-48956adda72c",
        "colab": {
          "base_uri": "https://localhost:8080/",
          "height": 54
        }
      },
      "source": [
        "s = \"\"\"कालिंजर दुर्ग, भारतीय राज्य उत्तर प्रदेश के बांदा जिला स्थित एक दुर्ग है। बुन्देलखण्ड क्षेत्र में विंध्य पर्वत पर स्थित यह दुर्ग विश्व धरोहर स्थल खजुराहो से ९७.७ किमी दूर है। इसे भारत के सबसे विशाल और अपराजेय दुर्गों में गिना जाता रहा है। इस दुर्ग में कई प्राचीन मन्दिर हैं। इनमें कई मंदिर तीसरी से पाँचवीं सदी गुप्तकाल के हैं। यहाँ के शिव मन्दिर के बारे में मान्यता है कि सागर-मन्थन से निकले कालकूट विष को पीने के बाद भगवान शिव ने यही तपस्या कर उसकी ज्वाला शांत की थी। कार्तिक पूर्णिमा के अवसर पर लगने वाला कतिकी मेला यहाँ का प्रसिद्ध सांस्कृतिक उत्सव है। भारत की स्वतंत्रता के पश्चात इसकी पहचान एक महत्वपूर्ण ऐतिहासिक धरोहर के रूप में की गयी है। वर्तमान में यह दुर्ग भारतीय पुरातत्त्व सर्वेक्षण विभाग के अधिकार एवं अनुरक्षण में है।\"\"\"\n",
        "s"
      ],
      "execution_count": 0,
      "outputs": [
        {
          "output_type": "execute_result",
          "data": {
            "text/plain": [
              "'कालिंजर दुर्ग, भारतीय राज्य उत्तर प्रदेश के बांदा जिला स्थित एक दुर्ग है। बुन्देलखण्ड क्षेत्र में विंध्य पर्वत पर स्थित यह दुर्ग विश्व धरोहर स्थल खजुराहो से ९७.७ किमी दूर है। इसे भारत के सबसे विशाल और अपराजेय दुर्गों में गिना जाता रहा है। इस दुर्ग में कई प्राचीन मन्दिर हैं। इनमें कई मंदिर तीसरी से पाँचवीं सदी गुप्तकाल के हैं। यहाँ के शिव मन्दिर के बारे में मान्यता है कि सागर-मन्थन से निकले कालकूट विष को पीने के बाद भगवान शिव ने यही तपस्या कर उसकी ज्वाला शांत की थी। कार्तिक पूर्णिमा के अवसर पर लगने वाला कतिकी मेला यहाँ का प्रसिद्ध सांस्कृतिक उत्सव है। भारत की स्वतंत्रता के पश्चात इसकी पहचान एक महत्वपूर्ण ऐतिहासिक धरोहर के रूप में की गयी है। वर्तमान में यह दुर्ग भारतीय पुरातत्त्व सर्वेक्षण विभाग के अधिकार एवं अनुरक्षण में है।'"
            ]
          },
          "metadata": {
            "tags": []
          },
          "execution_count": 18
        }
      ]
    },
    {
      "cell_type": "code",
      "metadata": {
        "id": "AWjNWPyu1kc-",
        "colab_type": "code",
        "colab": {}
      },
      "source": [
        "|"
      ],
      "execution_count": 0,
      "outputs": []
    }
  ]
}