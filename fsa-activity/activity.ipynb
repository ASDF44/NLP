{
 "cells": [
  {
   "cell_type": "code",
   "execution_count": 1,
   "metadata": {},
   "outputs": [],
   "source": [
    "import nltk"
   ]
  },
  {
   "cell_type": "code",
   "execution_count": 2,
   "metadata": {},
   "outputs": [
    {
     "name": "stderr",
     "output_type": "stream",
     "text": [
      "[nltk_data] Downloading package punkt to\n",
      "[nltk_data]     C:\\Users\\Saurabh\\AppData\\Roaming\\nltk_data...\n",
      "[nltk_data]   Package punkt is already up-to-date!\n"
     ]
    },
    {
     "data": {
      "text/plain": [
       "True"
      ]
     },
     "execution_count": 2,
     "metadata": {},
     "output_type": "execute_result"
    }
   ],
   "source": [
    "nltk.download(\"punkt\")"
   ]
  },
  {
   "cell_type": "code",
   "execution_count": 68,
   "metadata": {},
   "outputs": [
    {
     "data": {
      "text/plain": [
       "['adventure',\n",
       " 'belles_lettres',\n",
       " 'editorial',\n",
       " 'fiction',\n",
       " 'government',\n",
       " 'hobbies',\n",
       " 'humor',\n",
       " 'learned',\n",
       " 'lore',\n",
       " 'mystery',\n",
       " 'news',\n",
       " 'religion',\n",
       " 'reviews',\n",
       " 'romance',\n",
       " 'science_fiction']"
      ]
     },
     "execution_count": 68,
     "metadata": {},
     "output_type": "execute_result"
    }
   ],
   "source": [
    "from nltk.corpus import brown \n",
    "index = brown.categories() \n",
    "index"
   ]
  },
  {
   "cell_type": "code",
   "execution_count": 69,
   "metadata": {},
   "outputs": [
    {
     "data": {
      "text/plain": [
       "57340"
      ]
     },
     "execution_count": 69,
     "metadata": {},
     "output_type": "execute_result"
    }
   ],
   "source": [
    "len(brown.sents(categories = index))"
   ]
  },
  {
   "cell_type": "code",
   "execution_count": 70,
   "metadata": {},
   "outputs": [
    {
     "data": {
      "text/plain": [
       "[[('Dan', 'NNP'),\n",
       "  ('Morgan', 'NNP'),\n",
       "  ('told', 'VBD'),\n",
       "  ('himself', 'PRP'),\n",
       "  ('he', 'PRP'),\n",
       "  ('would', 'MD'),\n",
       "  ('forget', 'VB'),\n",
       "  ('Ann', 'NNP'),\n",
       "  ('Turner', 'NNP'),\n",
       "  ('.', '.')],\n",
       " [('He', 'PRP'),\n",
       "  ('was', 'VBD'),\n",
       "  ('well', 'RB'),\n",
       "  ('rid', 'JJ'),\n",
       "  ('of', 'IN'),\n",
       "  ('her', 'PRP'),\n",
       "  ('.', '.')],\n",
       " [('He', 'PRP'),\n",
       "  ('certainly', 'RB'),\n",
       "  (\"didn't\", 'VBZ'),\n",
       "  ('want', 'VB'),\n",
       "  ('a', 'DT'),\n",
       "  ('wife', 'NN'),\n",
       "  ('who', 'WP'),\n",
       "  ('was', 'VBD'),\n",
       "  ('fickle', 'VBN'),\n",
       "  ('as', 'IN'),\n",
       "  ('Ann', 'NNP'),\n",
       "  ('.', '.')]]"
      ]
     },
     "execution_count": 70,
     "metadata": {},
     "output_type": "execute_result"
    }
   ],
   "source": [
    "tokenized = brown.sents(categories = ['adventure'])\n",
    "tagged = []\n",
    "for i in tokenized:\n",
    "    tagged.append(nltk.pos_tag(i))\n",
    "#     break\n",
    "tagged[:3]"
   ]
  },
  {
   "cell_type": "code",
   "execution_count": 71,
   "metadata": {},
   "outputs": [],
   "source": [
    "completeverbs = []\n",
    "verbs = []\n",
    "nouns = []\n",
    "adjs = []\n",
    "for l in tagged:\n",
    "    for tup in l:\n",
    "        if tup[1].startswith('V'):\n",
    "            completeverbs.append(tup[0])\n",
    "            if not tup[0].endswith('ing') and not tup[0].endswith('ed'):\n",
    "                verbs.append(tup[0])\n",
    "        elif tup[1].startswith('N'):\n",
    "            nouns.append(tup[0])"
   ]
  },
  {
   "cell_type": "code",
   "execution_count": 72,
   "metadata": {},
   "outputs": [
    {
     "name": "stdout",
     "output_type": "stream",
     "text": [
      "['tolding', 'forgeting', 'wasing', \"didn'ting\", 'wanting']\n",
      "['told', 'forget', 'was', \"didn't\", 'want']\n"
     ]
    }
   ],
   "source": [
    "verbsing = [verbs[i] + 'ing' for i in range(len(verbs))]\n",
    "print(verbsing[:5])\n",
    "print(verbs[:5])"
   ]
  },
  {
   "cell_type": "code",
   "execution_count": 73,
   "metadata": {},
   "outputs": [
    {
     "name": "stdout",
     "output_type": "stream",
     "text": [
      "['tolded', 'forgeted', 'wased', \"didn'ted\", 'wanted']\n",
      "['told', 'forget', 'was', \"didn't\", 'want']\n"
     ]
    }
   ],
   "source": [
    "verbsed = [verbs[i] + 'ed' for i in range(len(verbs))]\n",
    "print(verbsed[:5])\n",
    "print(verbs[:5])"
   ]
  },
  {
   "cell_type": "code",
   "execution_count": 78,
   "metadata": {},
   "outputs": [],
   "source": [
    "import json\n",
    "problem = list(set(verbsing).union(set(verbsed)) - set(verbs))\n",
    "store = {}\n",
    "for word in problem:\n",
    "    if word.endswith('ing'):\n",
    "        temp = word[:len(word)-3]\n",
    "    elif word.endswith('ed'):\n",
    "        temp = word[:len(word)-2]\n",
    "    if temp in store.keys():\n",
    "        store[temp].append(word)\n",
    "    else:\n",
    "        store[temp] = [word]\n",
    "with open('C:/Users/Saurabh/Desktop/saurabh/NLP/fsa-activity/not-satisfying-verbs.json', 'w') as fp:\n",
    "    json.dump(store, fp)"
   ]
  },
  {
   "cell_type": "code",
   "execution_count": 92,
   "metadata": {},
   "outputs": [
    {
     "data": {
      "text/plain": [
       "['holding',\n",
       " 'burning',\n",
       " 'pretended',\n",
       " 'watching',\n",
       " 'glistening',\n",
       " 'failed',\n",
       " 'acted',\n",
       " 'seemed',\n",
       " 'confessed',\n",
       " 'sending',\n",
       " 'offered',\n",
       " 'talked',\n",
       " 'warned',\n",
       " 'avoided',\n",
       " 'watched',\n",
       " 'entered',\n",
       " 'screamed',\n",
       " 'bending',\n",
       " 'glistened',\n",
       " 'questioning',\n",
       " 'staggered',\n",
       " 'trying',\n",
       " 'answered',\n",
       " 'cracked',\n",
       " 'contained',\n",
       " 'screaming',\n",
       " 'Looking',\n",
       " 'brushed',\n",
       " 'Holding',\n",
       " 'pushed',\n",
       " 'fleeing',\n",
       " 'pressing',\n",
       " 'wondered',\n",
       " 'echoing',\n",
       " 'Remembering',\n",
       " 'seeming',\n",
       " 'considered',\n",
       " 'slashed',\n",
       " 'joined',\n",
       " 'blowing',\n",
       " 'following',\n",
       " 'passed',\n",
       " 'wanting',\n",
       " 'heading',\n",
       " 'killed',\n",
       " 'returning',\n",
       " 'enjoying',\n",
       " 'wanted',\n",
       " 'ended',\n",
       " 'raided',\n",
       " 'fixed',\n",
       " 'rolled',\n",
       " 'flushed',\n",
       " 'showing',\n",
       " 'Leading',\n",
       " 'demanded',\n",
       " 'followed',\n",
       " 'fooled',\n",
       " 'soaking',\n",
       " 'snorted',\n",
       " 'killing',\n",
       " 'focused',\n",
       " 'headed',\n",
       " 'drinking',\n",
       " 'sleeping',\n",
       " 'waited',\n",
       " 'played',\n",
       " 'formed',\n",
       " 'recovered',\n",
       " 'kissing',\n",
       " 'remaining',\n",
       " 'Seeing',\n",
       " 'busted',\n",
       " 'hunted',\n",
       " 'crawling',\n",
       " 'visited',\n",
       " 'standing',\n",
       " 'intended',\n",
       " 'cooked',\n",
       " 'veering',\n",
       " 'lighted',\n",
       " 'echoed',\n",
       " 'itching',\n",
       " 'Thinking',\n",
       " 'affording',\n",
       " 'failing',\n",
       " 'agreeing',\n",
       " 'talking',\n",
       " 'washed',\n",
       " 'warning',\n",
       " 'tended',\n",
       " 'asking',\n",
       " 'returned',\n",
       " 'opening',\n",
       " 'considering',\n",
       " 'finished',\n",
       " 'missed',\n",
       " 'painting',\n",
       " 'containing',\n",
       " 'stooped',\n",
       " 'counting',\n",
       " 'called',\n",
       " 'walked',\n",
       " 'covered',\n",
       " 'remained',\n",
       " 'leaping',\n",
       " 'leaning',\n",
       " 'starting',\n",
       " 'belonged',\n",
       " 'developing',\n",
       " 'ducking',\n",
       " 'missing',\n",
       " 'started',\n",
       " 'listening',\n",
       " 'mocked',\n",
       " 'mentioned',\n",
       " 'exerted',\n",
       " 'remembered',\n",
       " 'collecting',\n",
       " 'felling',\n",
       " 'attacked',\n",
       " 'playing',\n",
       " 'filling',\n",
       " 'attacking',\n",
       " 'accepting',\n",
       " 'asked',\n",
       " 'approached',\n",
       " 'trusted',\n",
       " 'telling',\n",
       " 'stained',\n",
       " 'accepted',\n",
       " 'walking',\n",
       " 'mentioning',\n",
       " 'wondering',\n",
       " 'confirmed',\n",
       " 'listened',\n",
       " 'frightened',\n",
       " 'addressed',\n",
       " 'eating',\n",
       " 'dwarfed',\n",
       " 'treated',\n",
       " 'expected',\n",
       " 'defending',\n",
       " 'doubted',\n",
       " 'happening',\n",
       " 'bothered',\n",
       " 'drowned',\n",
       " 'pushing',\n",
       " 'grasped',\n",
       " 'hinted',\n",
       " 'suffered',\n",
       " 'paying',\n",
       " 'destroyed',\n",
       " 'climbing',\n",
       " 'bursting',\n",
       " 'exploited',\n",
       " 'tossed',\n",
       " 'passing',\n",
       " 'filled',\n",
       " 'aimed',\n",
       " 'retorted',\n",
       " 'pulling',\n",
       " 'leading',\n",
       " 'figgered',\n",
       " 'ducked',\n",
       " 'maintaining',\n",
       " 'revealing',\n",
       " 'halted',\n",
       " 'climbed',\n",
       " 'finishing',\n",
       " 'sounded',\n",
       " 'mocking',\n",
       " 'stayed',\n",
       " 'learning',\n",
       " 'blinded',\n",
       " 'weeping',\n",
       " 'pressed',\n",
       " 'sounding',\n",
       " 'working',\n",
       " 'repaired',\n",
       " 'kissed',\n",
       " 'reading',\n",
       " 'wearing',\n",
       " 'burned',\n",
       " 'cleaned',\n",
       " 'lashed',\n",
       " 'bothering',\n",
       " 'doing',\n",
       " 'grasping',\n",
       " 'feeling',\n",
       " 'marked',\n",
       " 'knowing',\n",
       " 'reached',\n",
       " 'greeted',\n",
       " 'counted',\n",
       " 'looking',\n",
       " 'wished',\n",
       " 'saying',\n",
       " 'laying',\n",
       " 'yanked',\n",
       " 'exploiting',\n",
       " 'suggested',\n",
       " 'visiting',\n",
       " 'enjoyed',\n",
       " 'backing',\n",
       " 'washing',\n",
       " 'expecting',\n",
       " 'licked',\n",
       " 'awaited',\n",
       " 'feared',\n",
       " 'calling',\n",
       " 'roared',\n",
       " 'answering',\n",
       " 'happened',\n",
       " 'reaching',\n",
       " 'shouldered',\n",
       " 'concealed',\n",
       " 'shooting',\n",
       " 'lifted',\n",
       " 'disturbed',\n",
       " 'thinking',\n",
       " 'explained',\n",
       " 'damned',\n",
       " 'prevented',\n",
       " 'blinding',\n",
       " 'roaring',\n",
       " 'pulled',\n",
       " 'added',\n",
       " 'approaching',\n",
       " 'helped',\n",
       " 'sinking',\n",
       " 'picking',\n",
       " 'sliding',\n",
       " 'steering',\n",
       " 'mounted',\n",
       " 'soaked',\n",
       " 'hurled',\n",
       " 'tossing',\n",
       " 'picked',\n",
       " 'looked',\n",
       " 'showed',\n",
       " 'hurrying',\n",
       " 'slumped',\n",
       " 'opened',\n",
       " 'staggering',\n",
       " 'hunting',\n",
       " 'growing',\n",
       " 'rushed',\n",
       " 'rounded',\n",
       " 'stinking',\n",
       " 'rushing',\n",
       " 'remembering',\n",
       " 'interrupted',\n",
       " 'spreading',\n",
       " 'sneaked',\n",
       " 'throwing',\n",
       " 'melted',\n",
       " 'learned',\n",
       " 'flying',\n",
       " 'alerting',\n",
       " 'finding',\n",
       " 'gathered',\n",
       " 'guessed',\n",
       " 'leaped',\n",
       " 'forming',\n",
       " 'depended',\n",
       " 'discovered',\n",
       " 'leaned',\n",
       " 'keeping',\n",
       " 'worked',\n",
       " 'fixing',\n",
       " 'smacked',\n",
       " 'waiting',\n",
       " 'entering',\n",
       " 'carrying',\n",
       " 'risked',\n",
       " 'being',\n",
       " 'brushing',\n",
       " 'catching',\n",
       " 'going',\n",
       " 'seeing',\n",
       " 'expressing',\n",
       " 'staying',\n",
       " 'hurling',\n",
       " 'Waiting',\n",
       " 'protested',\n",
       " 'revealed',\n",
       " 'knocked',\n",
       " 'crawled',\n",
       " 'speaking',\n",
       " 'delayed',\n",
       " 'fighting',\n",
       " 'switched',\n",
       " 'turned',\n",
       " 'rolling',\n",
       " 'covering',\n",
       " 'drawing',\n",
       " 'backed']"
      ]
     },
     "execution_count": 92,
     "metadata": {},
     "output_type": "execute_result"
    }
   ],
   "source": [
    "satisfied = list(set(verbsing).union(set(verbsed)).intersection(set(completeverbs)))\n",
    "satisfied[10:]"
   ]
  },
  {
   "cell_type": "code",
   "execution_count": 127,
   "metadata": {},
   "outputs": [
    {
     "data": {
      "text/plain": [
       "['rid',\n",
       " 'much',\n",
       " 'long',\n",
       " 'easiest',\n",
       " 'stubborn',\n",
       " 'best',\n",
       " 'hard',\n",
       " 'little',\n",
       " 'little',\n",
       " 'poignant']"
      ]
     },
     "execution_count": 127,
     "metadata": {},
     "output_type": "execute_result"
    }
   ],
   "source": [
    "adjs = []\n",
    "for l in tagged:\n",
    "    for tup in l:\n",
    "        if tup[1].startswith('JJ'):\n",
    "            adjs.append(tup[0])\n",
    "adjs[:10]\n"
   ]
  },
  {
   "cell_type": "code",
   "execution_count": 128,
   "metadata": {},
   "outputs": [],
   "source": [
    "verbsive = set([verbs[i] + 'ive' for i in range(len(verbs))])\n",
    "verbsative = set([verbs[i] + 'ative' for i in range(len(verbs))])\n",
    "verbsful = set([verbs[i] + 'ful' for i in range(len(verbs))])"
   ]
  },
  {
   "cell_type": "code",
   "execution_count": 129,
   "metadata": {},
   "outputs": [],
   "source": [
    "verbsadjproblem = list(verbsive.union(verbsative).union(verbsful) - (set(adjs)))"
   ]
  },
  {
   "cell_type": "code",
   "execution_count": 131,
   "metadata": {
    "scrolled": false
   },
   "outputs": [
    {
     "data": {
      "text/plain": [
       "{'baleful',\n",
       " 'careful',\n",
       " 'doubtful',\n",
       " 'fearful',\n",
       " 'rightful',\n",
       " 'thankful',\n",
       " 'thoughtful',\n",
       " 'useful',\n",
       " 'watchful',\n",
       " 'wishful',\n",
       " 'wonderful'}"
      ]
     },
     "execution_count": 131,
     "metadata": {},
     "output_type": "execute_result"
    }
   ],
   "source": [
    "verbsive.union(verbsative).union(verbsful).intersection(set(adjs))"
   ]
  },
  {
   "cell_type": "code",
   "execution_count": 152,
   "metadata": {},
   "outputs": [],
   "source": [
    "v_a_p = {}\n",
    "for word in verbsadjproblem:\n",
    "    if word.endswith('ative'):\n",
    "        temp = word[:len(word)-5]\n",
    "    elif word.endswith('ive') or word.endswith('ive'):\n",
    "        temp = word[:len(word)-3]\n",
    "    if temp in v_a_p.keys():\n",
    "        v_a_p[temp].append(word)\n",
    "    else:\n",
    "        v_a_p[temp] = [word]\n",
    "with open('C:/Users/Saurabh/Desktop/saurabh/NLP/fsa-activity/problem-verbs-adj.json', 'w') as fp:\n",
    "    json.dump(v_a_p, fp)"
   ]
  },
  {
   "cell_type": "code",
   "execution_count": 137,
   "metadata": {},
   "outputs": [],
   "source": [
    "\n",
    "adjal = [adjs[i] + 'al' for i in range(len(adjs))]\n",
    "adjous = [adjs[i] + 'ous' for i in range(len(adjs))]"
   ]
  },
  {
   "cell_type": "code",
   "execution_count": 140,
   "metadata": {},
   "outputs": [],
   "source": [
    "adjousness = set([adjous[i] + 'ness' for i in range(len(adjous))])"
   ]
  },
  {
   "cell_type": "code",
   "execution_count": 144,
   "metadata": {},
   "outputs": [
    {
     "data": {
      "text/plain": [
       "['filthyousness',\n",
       " 'bronzedousness',\n",
       " 'middleousness',\n",
       " 'half-mincingousness',\n",
       " 'protestingousness',\n",
       " 'shrubbery-linedousness',\n",
       " 'frayedousness',\n",
       " 'worth-waiting-forousness',\n",
       " 'simpleousness',\n",
       " 'ex-truckousness']"
      ]
     },
     "execution_count": 144,
     "metadata": {},
     "output_type": "execute_result"
    }
   ],
   "source": [
    "adjsousnessnoun = list(adjousness - set(nouns))\n",
    "adjsousnessnoun[:10]"
   ]
  },
  {
   "cell_type": "code",
   "execution_count": 149,
   "metadata": {},
   "outputs": [
    {
     "data": {
      "text/plain": [
       "set()"
      ]
     },
     "execution_count": 149,
     "metadata": {},
     "output_type": "execute_result"
    }
   ],
   "source": [
    "set(adjsousnessnoun).intersection(set(nouns))"
   ]
  },
  {
   "cell_type": "code",
   "execution_count": 153,
   "metadata": {},
   "outputs": [],
   "source": [
    "a_ousness_n = {}\n",
    "for word in adjsousnessnoun:\n",
    "    a_ousness_n[word[:len(word)-7]] = word\n",
    "\n",
    "with open('C:/Users/Saurabh/Desktop/saurabh/NLP/fsa-activity/problem-adj-ousness-noun.json', 'w') as fp:\n",
    "    json.dump(a_ousness_n, fp)"
   ]
  },
  {
   "cell_type": "code",
   "execution_count": 155,
   "metadata": {},
   "outputs": [
    {
     "data": {
      "text/plain": [
       "['wokeive', 'mattersive', 'useive', 'devoidive']"
      ]
     },
     "execution_count": 155,
     "metadata": {},
     "output_type": "execute_result"
    }
   ],
   "source": [
    "verbsiveativeful = list(verbsive) + list(verbsative) + list(verbsful)\n",
    "verbsiveativeful[:4]"
   ]
  },
  {
   "cell_type": "code",
   "execution_count": 159,
   "metadata": {},
   "outputs": [
    {
     "data": {
      "text/plain": [
       "['wokeiveness', 'mattersiveness', 'useiveness', 'devoidiveness']"
      ]
     },
     "execution_count": 159,
     "metadata": {},
     "output_type": "execute_result"
    }
   ],
   "source": [
    "verbsiveativefulness = [verbsiveativeful[i] + 'ness' for i in range(len(verbsiveativeful))]\n",
    "verbsiveativefulness[:4]"
   ]
  },
  {
   "cell_type": "code",
   "execution_count": 162,
   "metadata": {},
   "outputs": [
    {
     "data": {
      "text/plain": [
       "['distractfulness',\n",
       " 'destroyativeness',\n",
       " 'itchiveness',\n",
       " 'seesfulness',\n",
       " 'Ridefulness']"
      ]
     },
     "execution_count": 162,
     "metadata": {},
     "output_type": "execute_result"
    }
   ],
   "source": [
    "verbsiveativefulnessnouns = list(set(verbsiveativefulness) - set(nouns))\n",
    "verbsiveativefulnessnouns[:5]"
   ]
  },
  {
   "cell_type": "code",
   "execution_count": 163,
   "metadata": {},
   "outputs": [
    {
     "data": {
      "text/plain": [
       "{'passiveness'}"
      ]
     },
     "execution_count": 163,
     "metadata": {},
     "output_type": "execute_result"
    }
   ],
   "source": [
    "set(verbsiveativefulness).intersection(set(nouns))"
   ]
  },
  {
   "cell_type": "code",
   "execution_count": 164,
   "metadata": {},
   "outputs": [],
   "source": [
    "v_iveativeful_ness_n = {}\n",
    "for word in verbsiveativefulnessnouns:\n",
    "    temp = word[:len(word)-4]\n",
    "    if temp.endswith('ative'):\n",
    "        temp = temp[:len(temp)-5]\n",
    "    elif temp.endswith('ive'):\n",
    "        temp = temp[:len(temp)-3]\n",
    "    elif temp.endswith('ful'):\n",
    "        temp = temp[:len(temp)-3]\n",
    "    v_iveativeful_ness_n[temp] = word\n",
    "\n",
    "with open('C:/Users/Saurabh/Desktop/saurabh/NLP/fsa-activity/problem-verb-iveativeful-ness-noun.json', 'w') as fp:\n",
    "    json.dump(v_iveativeful_ness_n, fp)"
   ]
  },
  {
   "cell_type": "code",
   "execution_count": 167,
   "metadata": {},
   "outputs": [
    {
     "name": "stdout",
     "output_type": "stream",
     "text": [
      "$: dollar\n",
      "    $ -$ --$ A$ C$ HK$ M$ NZ$ S$ U.S.$ US$\n",
      "'': closing quotation mark\n",
      "    ' ''\n",
      "(: opening parenthesis\n",
      "    ( [ {\n",
      "): closing parenthesis\n",
      "    ) ] }\n",
      ",: comma\n",
      "    ,\n",
      "--: dash\n",
      "    --\n",
      ".: sentence terminator\n",
      "    . ! ?\n",
      ":: colon or ellipsis\n",
      "    : ; ...\n",
      "CC: conjunction, coordinating\n",
      "    & 'n and both but either et for less minus neither nor or plus so\n",
      "    therefore times v. versus vs. whether yet\n",
      "CD: numeral, cardinal\n",
      "    mid-1890 nine-thirty forty-two one-tenth ten million 0.5 one forty-\n",
      "    seven 1987 twenty '79 zero two 78-degrees eighty-four IX '60s .025\n",
      "    fifteen 271,124 dozen quintillion DM2,000 ...\n",
      "DT: determiner\n",
      "    all an another any both del each either every half la many much nary\n",
      "    neither no some such that the them these this those\n",
      "EX: existential there\n",
      "    there\n",
      "FW: foreign word\n",
      "    gemeinschaft hund ich jeux habeas Haementeria Herr K'ang-si vous\n",
      "    lutihaw alai je jour objets salutaris fille quibusdam pas trop Monte\n",
      "    terram fiche oui corporis ...\n",
      "IN: preposition or conjunction, subordinating\n",
      "    astride among uppon whether out inside pro despite on by throughout\n",
      "    below within for towards near behind atop around if like until below\n",
      "    next into if beside ...\n",
      "JJ: adjective or numeral, ordinal\n",
      "    third ill-mannered pre-war regrettable oiled calamitous first separable\n",
      "    ectoplasmic battery-powered participatory fourth still-to-be-named\n",
      "    multilingual multi-disciplinary ...\n",
      "JJR: adjective, comparative\n",
      "    bleaker braver breezier briefer brighter brisker broader bumper busier\n",
      "    calmer cheaper choosier cleaner clearer closer colder commoner costlier\n",
      "    cozier creamier crunchier cuter ...\n",
      "JJS: adjective, superlative\n",
      "    calmest cheapest choicest classiest cleanest clearest closest commonest\n",
      "    corniest costliest crassest creepiest crudest cutest darkest deadliest\n",
      "    dearest deepest densest dinkiest ...\n",
      "LS: list item marker\n",
      "    A A. B B. C C. D E F First G H I J K One SP-44001 SP-44002 SP-44005\n",
      "    SP-44007 Second Third Three Two * a b c d first five four one six three\n",
      "    two\n",
      "MD: modal auxiliary\n",
      "    can cannot could couldn't dare may might must need ought shall should\n",
      "    shouldn't will would\n",
      "NN: noun, common, singular or mass\n",
      "    common-carrier cabbage knuckle-duster Casino afghan shed thermostat\n",
      "    investment slide humour falloff slick wind hyena override subhumanity\n",
      "    machinist ...\n",
      "NNP: noun, proper, singular\n",
      "    Motown Venneboerger Czestochwa Ranzer Conchita Trumplane Christos\n",
      "    Oceanside Escobar Kreisler Sawyer Cougar Yvette Ervin ODI Darryl CTCA\n",
      "    Shannon A.K.C. Meltex Liverpool ...\n",
      "NNPS: noun, proper, plural\n",
      "    Americans Americas Amharas Amityvilles Amusements Anarcho-Syndicalists\n",
      "    Andalusians Andes Andruses Angels Animals Anthony Antilles Antiques\n",
      "    Apache Apaches Apocrypha ...\n",
      "NNS: noun, common, plural\n",
      "    undergraduates scotches bric-a-brac products bodyguards facets coasts\n",
      "    divestitures storehouses designs clubs fragrances averages\n",
      "    subjectivists apprehensions muses factory-jobs ...\n",
      "PDT: pre-determiner\n",
      "    all both half many quite such sure this\n",
      "POS: genitive marker\n",
      "    ' 's\n",
      "PRP: pronoun, personal\n",
      "    hers herself him himself hisself it itself me myself one oneself ours\n",
      "    ourselves ownself self she thee theirs them themselves they thou thy us\n",
      "PRP$: pronoun, possessive\n",
      "    her his mine my our ours their thy your\n",
      "RB: adverb\n",
      "    occasionally unabatingly maddeningly adventurously professedly\n",
      "    stirringly prominently technologically magisterially predominately\n",
      "    swiftly fiscally pitilessly ...\n",
      "RBR: adverb, comparative\n",
      "    further gloomier grander graver greater grimmer harder harsher\n",
      "    healthier heavier higher however larger later leaner lengthier less-\n",
      "    perfectly lesser lonelier longer louder lower more ...\n",
      "RBS: adverb, superlative\n",
      "    best biggest bluntest earliest farthest first furthest hardest\n",
      "    heartiest highest largest least less most nearest second tightest worst\n",
      "RP: particle\n",
      "    aboard about across along apart around aside at away back before behind\n",
      "    by crop down ever fast for forth from go high i.e. in into just later\n",
      "    low more off on open out over per pie raising start teeth that through\n",
      "    under unto up up-pp upon whole with you\n",
      "SYM: symbol\n",
      "    % & ' '' ''. ) ). * + ,. < = > @ A[fj] U.S U.S.S.R * ** ***\n",
      "TO: \"to\" as preposition or infinitive marker\n",
      "    to\n",
      "UH: interjection\n",
      "    Goodbye Goody Gosh Wow Jeepers Jee-sus Hubba Hey Kee-reist Oops amen\n",
      "    huh howdy uh dammit whammo shucks heck anyways whodunnit honey golly\n",
      "    man baby diddle hush sonuvabitch ...\n",
      "VB: verb, base form\n",
      "    ask assemble assess assign assume atone attention avoid bake balkanize\n",
      "    bank begin behold believe bend benefit bevel beware bless boil bomb\n",
      "    boost brace break bring broil brush build ...\n",
      "VBD: verb, past tense\n",
      "    dipped pleaded swiped regummed soaked tidied convened halted registered\n",
      "    cushioned exacted snubbed strode aimed adopted belied figgered\n",
      "    speculated wore appreciated contemplated ...\n",
      "VBG: verb, present participle or gerund\n",
      "    telegraphing stirring focusing angering judging stalling lactating\n",
      "    hankerin' alleging veering capping approaching traveling besieging\n",
      "    encrypting interrupting erasing wincing ...\n",
      "VBN: verb, past participle\n",
      "    multihulled dilapidated aerosolized chaired languished panelized used\n",
      "    experimented flourished imitated reunifed factored condensed sheared\n",
      "    unsettled primed dubbed desired ...\n",
      "VBP: verb, present tense, not 3rd person singular\n",
      "    predominate wrap resort sue twist spill cure lengthen brush terminate\n",
      "    appear tend stray glisten obtain comprise detest tease attract\n",
      "    emphasize mold postpone sever return wag ...\n",
      "VBZ: verb, present tense, 3rd person singular\n",
      "    bases reconstructs marks mixes displeases seals carps weaves snatches\n",
      "    slumps stretches authorizes smolders pictures emerges stockpiles\n",
      "    seduces fizzes uses bolsters slaps speaks pleads ...\n",
      "WDT: WH-determiner\n",
      "    that what whatever which whichever\n",
      "WP: WH-pronoun\n",
      "    that what whatever whatsoever which who whom whosoever\n",
      "WP$: WH-pronoun, possessive\n",
      "    whose\n",
      "WRB: Wh-adverb\n",
      "    how however whence whenever where whereby whereever wherein whereof why\n",
      "``: opening quotation mark\n",
      "    ` ``\n"
     ]
    }
   ],
   "source": [
    "adverb = []\n",
    "for l in tagged:\n",
    "    for tup in l:\n",
    "        if tup[1].startswith('RB'):\n",
    "            adjs.append(tup[0])\n",
    "adjs[:10]"
   ]
  },
  {
   "cell_type": "code",
   "execution_count": null,
   "metadata": {},
   "outputs": [],
   "source": []
  }
 ],
 "metadata": {
  "kernelspec": {
   "display_name": "Python 3",
   "language": "python",
   "name": "python3"
  },
  "language_info": {
   "codemirror_mode": {
    "name": "ipython",
    "version": 3
   },
   "file_extension": ".py",
   "mimetype": "text/x-python",
   "name": "python",
   "nbconvert_exporter": "python",
   "pygments_lexer": "ipython3",
   "version": "3.7.4"
  }
 },
 "nbformat": 4,
 "nbformat_minor": 2
}
