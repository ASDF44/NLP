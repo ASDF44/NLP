{
  "nbformat": 4,
  "nbformat_minor": 0,
  "metadata": {
    "colab": {
      "name": "torchpractice.ipynb",
      "provenance": [],
      "collapsed_sections": [],
      "authorship_tag": "ABX9TyOA9qF7vvP1f1abpcTNTZfk",
      "include_colab_link": true
    },
    "kernelspec": {
      "name": "python3",
      "display_name": "Python 3"
    }
  },
  "cells": [
    {
      "cell_type": "markdown",
      "metadata": {
        "id": "view-in-github",
        "colab_type": "text"
      },
      "source": [
        "<a href=\"https://colab.research.google.com/github/ASDF44/NLP/blob/master/DA_1_torchnlppractice.ipynb\" target=\"_parent\"><img src=\"https://colab.research.google.com/assets/colab-badge.svg\" alt=\"Open In Colab\"/></a>"
      ]
    },
    {
      "cell_type": "code",
      "metadata": {
        "id": "JoJ-F4bGBlKg",
        "colab_type": "code",
        "outputId": "502ef9e3-5283-41a7-e606-04f0755e730b",
        "colab": {
          "base_uri": "https://localhost:8080/",
          "height": 67
        }
      },
      "source": [
        "!pip install pytorch-nlp"
      ],
      "execution_count": 12,
      "outputs": [
        {
          "output_type": "stream",
          "text": [
            "Requirement already satisfied: pytorch-nlp in /usr/local/lib/python3.6/dist-packages (0.5.0)\n",
            "Requirement already satisfied: numpy in /usr/local/lib/python3.6/dist-packages (from pytorch-nlp) (1.17.5)\n",
            "Requirement already satisfied: tqdm in /usr/local/lib/python3.6/dist-packages (from pytorch-nlp) (4.28.1)\n"
          ],
          "name": "stdout"
        }
      ]
    },
    {
      "cell_type": "code",
      "metadata": {
        "id": "e-j4bUeGB3JX",
        "colab_type": "code",
        "outputId": "7c72290d-21b6-43dc-d0c9-a8f85a2609c5",
        "colab": {
          "base_uri": "https://localhost:8080/",
          "height": 205
        }
      },
      "source": [
        "# 17bcb0107\n",
        "from torchnlp.datasets import wmt_dataset\n",
        "train = wmt_dataset(train=True)\n",
        "train[:5]"
      ],
      "execution_count": 13,
      "outputs": [
        {
          "output_type": "execute_result",
          "data": {
            "text/plain": [
              "[{'de': 'Wiederaufnahme der Sitzungsperiode',\n",
              "  'en': 'Res@@ um@@ ption of the session'},\n",
              " {'de': 'Ich erklär@@ e die am Freitag , dem 17. Dezember unterbro@@ ch@@ ene Sitzungsperiode des Europäischen Parlaments für wieder@@ aufgenommen , wünsche Ihnen nochmals alles Gute zum Jahres@@ wechsel und hoffe , daß Sie schöne Ferien hatten .',\n",
              "  'en': 'I declare resumed the session of the European Parliament ad@@ jour@@ ned on Friday 17 December 1999 , and I would like once again to wish you a happy new year in the hope that you enjoyed a pleasant fes@@ tive period .'},\n",
              " {'de': 'Wie Sie feststellen konnten , ist der ge@@ für@@ chtete &quot; Mill@@ eni@@ um-@@ Bu@@ g &quot; nicht eingetreten . Doch sind Bürger einiger unserer Mitgliedstaaten Opfer von schrecklichen Naturkatastrophen geworden .',\n",
              "  'en': 'Although , as you will have seen , the d@@ read@@ ed &apos; millenni@@ um bug &apos; failed to materi@@ alise , still the people in a number of countries suffered a series of natural disasters that truly were d@@ read@@ ful .'},\n",
              " {'de': 'Im Parlament besteht der Wunsch nach einer Aussprache im Verlauf dieser Sitzungsperiode in den nächsten Tagen .',\n",
              "  'en': 'You have requested a debate on this subject in the course of the next few days , during this part-session .'},\n",
              " {'de': 'Heute möchte ich Sie bitten - das ist auch der Wunsch einiger Kolleginnen und Kollegen - , allen Opfern der St@@ ür@@ me , insbesondere in den verschiedenen Ländern der Europäischen Union , in einer Schwei@@ ge@@ minute zu ge@@ denken .',\n",
              "  'en': 'In the meantime , I should like to observe a minute &apos; s silence , as a number of Members have requested , on behalf of all the victims concerned , particularly those of the terrible stor@@ ms , in the various countries of the European Union .'}]"
            ]
          },
          "metadata": {
            "tags": []
          },
          "execution_count": 13
        }
      ]
    },
    {
      "cell_type": "code",
      "metadata": {
        "id": "EU0zmK-rCT6s",
        "colab_type": "code",
        "outputId": "4d2746a7-a5af-40a6-9a24-a736c186baf9",
        "colab": {
          "base_uri": "https://localhost:8080/",
          "height": 1000
        }
      },
      "source": [
        "from torchnlp.datasets import snli_dataset\n",
        "train = snli_dataset(train=True)\n",
        "train[0]['hypothesis_transitions']\n",
        "# len(train[0]['hypothesis'])"
      ],
      "execution_count": 14,
      "outputs": [
        {
          "output_type": "execute_result",
          "data": {
            "text/plain": [
              "['shift',\n",
              " 'shift',\n",
              " 'shift',\n",
              " 'shift',\n",
              " 'shift',\n",
              " 'shift',\n",
              " 'shift',\n",
              " 'shift',\n",
              " 'shift',\n",
              " 'shift',\n",
              " 'shift',\n",
              " 'reduce',\n",
              " 'shift',\n",
              " 'shift',\n",
              " 'shift',\n",
              " 'shift',\n",
              " 'shift',\n",
              " 'shift',\n",
              " 'shift',\n",
              " 'shift',\n",
              " 'shift',\n",
              " 'shift',\n",
              " 'shift',\n",
              " 'shift',\n",
              " 'shift',\n",
              " 'shift',\n",
              " 'shift',\n",
              " 'shift',\n",
              " 'shift',\n",
              " 'shift',\n",
              " 'shift',\n",
              " 'shift',\n",
              " 'shift',\n",
              " 'shift',\n",
              " 'shift',\n",
              " 'shift',\n",
              " 'shift',\n",
              " 'shift',\n",
              " 'shift',\n",
              " 'shift',\n",
              " 'reduce',\n",
              " 'shift',\n",
              " 'reduce',\n",
              " 'shift',\n",
              " 'shift',\n",
              " 'shift',\n",
              " 'shift',\n",
              " 'shift',\n",
              " 'shift',\n",
              " 'shift',\n",
              " 'shift',\n",
              " 'shift',\n",
              " 'shift',\n",
              " 'shift',\n",
              " 'shift',\n",
              " 'shift',\n",
              " 'shift',\n",
              " 'shift',\n",
              " 'shift',\n",
              " 'shift',\n",
              " 'shift',\n",
              " 'shift',\n",
              " 'shift',\n",
              " 'shift',\n",
              " 'reduce',\n",
              " 'shift',\n",
              " 'reduce',\n",
              " 'shift',\n",
              " 'reduce',\n",
              " 'shift',\n",
              " 'reduce',\n",
              " 'shift',\n",
              " 'shift',\n",
              " 'shift',\n",
              " 'reduce',\n",
              " 'shift',\n",
              " 'reduce']"
            ]
          },
          "metadata": {
            "tags": []
          },
          "execution_count": 14
        }
      ]
    },
    {
      "cell_type": "code",
      "metadata": {
        "id": "MhWejUWdEvij",
        "colab_type": "code",
        "outputId": "4d059e68-d057-47f5-8cc1-9fbd3d4cdd19",
        "colab": {
          "base_uri": "https://localhost:8080/",
          "height": 151
        }
      },
      "source": [
        "#17bcb0107\n",
        "from torchnlp.datasets import simple_qa_dataset\n",
        "train = simple_qa_dataset(train=True)\n",
        "train[:2]"
      ],
      "execution_count": 15,
      "outputs": [
        {
          "output_type": "execute_result",
          "data": {
            "text/plain": [
              "[{'object': 'www.freebase.com/m/01cj3p',\n",
              "  'question': 'what is the book e about',\n",
              "  'relation': 'www.freebase.com/book/written_work/subjects',\n",
              "  'subject': 'www.freebase.com/m/04whkz5'},\n",
              " {'object': 'www.freebase.com/m/0sjc7c1',\n",
              "  'question': 'to what release does the release track cardiac arrest come from',\n",
              "  'relation': 'www.freebase.com/music/release_track/release',\n",
              "  'subject': 'www.freebase.com/m/0tp2p24'}]"
            ]
          },
          "metadata": {
            "tags": []
          },
          "execution_count": 15
        }
      ]
    },
    {
      "cell_type": "code",
      "metadata": {
        "id": "aCyVuy0SFYGU",
        "colab_type": "code",
        "outputId": "bd4736fa-d0a1-4abf-a2f2-dded887900aa",
        "colab": {
          "base_uri": "https://localhost:8080/",
          "height": 34
        }
      },
      "source": [
        "#17bcb0107\n",
        "from torchnlp.metrics import get_accuracy, get_moses_multi_bleu\n",
        "targets = torch.LongTensor([6, 7, 8, 5, 9])\n",
        "outputs = torch.LongTensor([6, 7, 8, 5, 0])\n",
        "accuracy, n_correct, n_total = get_accuracy(targets, outputs, ignore_index=3)\n",
        "accuracy"
      ],
      "execution_count": 34,
      "outputs": [
        {
          "output_type": "execute_result",
          "data": {
            "text/plain": [
              "0.8"
            ]
          },
          "metadata": {
            "tags": []
          },
          "execution_count": 34
        }
      ]
    },
    {
      "cell_type": "code",
      "metadata": {
        "id": "TCiuZSD6HNiG",
        "colab_type": "code",
        "outputId": "3077d138-c1b3-4565-958b-2da3172b46c3",
        "colab": {
          "base_uri": "https://localhost:8080/",
          "height": 34
        }
      },
      "source": [
        "n_correct"
      ],
      "execution_count": 0,
      "outputs": [
        {
          "output_type": "execute_result",
          "data": {
            "text/plain": [
              "3"
            ]
          },
          "metadata": {
            "tags": []
          },
          "execution_count": 11
        }
      ]
    },
    {
      "cell_type": "code",
      "metadata": {
        "id": "LZVD3UarH1LA",
        "colab_type": "code",
        "outputId": "aa44a1e8-078d-46ba-fbd3-60d0dfb9644c",
        "colab": {
          "base_uri": "https://localhost:8080/",
          "height": 34
        }
      },
      "source": [
        "n_total"
      ],
      "execution_count": 0,
      "outputs": [
        {
          "output_type": "execute_result",
          "data": {
            "text/plain": [
              "5"
            ]
          },
          "metadata": {
            "tags": []
          },
          "execution_count": 12
        }
      ]
    },
    {
      "cell_type": "code",
      "metadata": {
        "id": "j7wYYMTSH2d8",
        "colab_type": "code",
        "outputId": "6ae6568d-b1f4-44c0-9d84-6c6261975f3f",
        "colab": {
          "base_uri": "https://localhost:8080/",
          "height": 34
        }
      },
      "source": [
        "#17bcb0107\n",
        "hypotheses = [\n",
        "\"The brown fox jumps over the dog 笑\",\n",
        "\"The brown fox jumps over the cat 笑\"\n",
        "]\n",
        "references = [\n",
        "\"The quick brown fox jumps over the lazy dog 笑\",\n",
        "\"The quick brown fox jumps over the lazy dog 笑\"\n",
        "]\n",
        "get_moses_multi_bleu(hypotheses, references, lowercase=True)"
      ],
      "execution_count": 36,
      "outputs": [
        {
          "output_type": "execute_result",
          "data": {
            "text/plain": [
              "45.89"
            ]
          },
          "metadata": {
            "tags": []
          },
          "execution_count": 36
        }
      ]
    },
    {
      "cell_type": "code",
      "metadata": {
        "id": "7TcM1z2GI-IJ",
        "colab_type": "code",
        "outputId": "9e0b56f6-ecae-44bb-ebdc-050e67eba575",
        "colab": {
          "base_uri": "https://localhost:8080/",
          "height": 34
        }
      },
      "source": [
        "#17bcb0107\n",
        "from torchnlp.samplers import DeterministicSampler\n",
        "from torchnlp.samplers import BalancedSampler\n",
        "data = ['I', 'am', 'man', 'a']\n",
        "sampler = BalancedSampler(data, num_samples=4)\n",
        "sampler = DeterministicSampler(sampler, random_seed=12)\n",
        "[data[i] for i in sampler]"
      ],
      "execution_count": 29,
      "outputs": [
        {
          "output_type": "execute_result",
          "data": {
            "text/plain": [
              "['man', 'man', 'am', 'I']"
            ]
          },
          "metadata": {
            "tags": []
          },
          "execution_count": 29
        }
      ]
    },
    {
      "cell_type": "code",
      "metadata": {
        "id": "yaykznyDfQjt",
        "colab_type": "code",
        "colab": {
          "base_uri": "https://localhost:8080/",
          "height": 706
        },
        "outputId": "9b18151c-a8ec-4066-9f16-4bbb60e58470"
      },
      "source": [
        "import torch\n",
        "from torchnlp.nn import LockedDropout\n",
        "x = torch.randn(6, 3, 10)\n",
        "dropout = LockedDropout(0.5)\n",
        "dropout(x)"
      ],
      "execution_count": 11,
      "outputs": [
        {
          "output_type": "execute_result",
          "data": {
            "text/plain": [
              "tensor([[[-0.0000, -0.0000,  0.2861,  0.0000, -1.3503,  0.0000,  0.7379,\n",
              "           0.0000, -1.2413,  2.9797],\n",
              "         [-0.0000,  0.0000,  1.0225,  0.0000, -0.0000, -1.1269,  1.3684,\n",
              "          -0.0000, -0.1641,  0.1685],\n",
              "         [-0.8388,  0.0000,  0.0000,  0.0000,  0.0000,  0.0284,  0.0000,\n",
              "          -1.4153, -1.2610, -0.3614]],\n",
              "\n",
              "        [[ 0.0000, -0.0000,  3.2181,  0.0000,  0.1024, -0.0000,  0.9189,\n",
              "          -0.0000, -1.7671, -0.5785],\n",
              "         [ 0.0000, -0.0000, -1.1475,  0.0000, -0.0000, -0.7685, -2.2798,\n",
              "           0.0000,  0.3379,  2.2948],\n",
              "         [-2.1453, -0.0000, -0.0000,  0.0000, -0.0000, -0.5988, -0.0000,\n",
              "          -2.6332, -1.1499, -0.7177]],\n",
              "\n",
              "        [[-0.0000,  0.0000,  1.6686,  0.0000,  5.0263, -0.0000,  4.2709,\n",
              "          -0.0000, -0.3332,  2.2618],\n",
              "         [-0.0000, -0.0000, -0.0501,  0.0000, -0.0000, -1.1974, -0.3489,\n",
              "           0.0000, -0.6969,  3.4430],\n",
              "         [-2.7697, -0.0000,  0.0000, -0.0000, -0.0000, -0.2305, -0.0000,\n",
              "          -3.5071, -1.7146,  0.6230]],\n",
              "\n",
              "        [[-0.0000, -0.0000,  2.8356, -0.0000, -0.7019,  0.0000, -0.2071,\n",
              "          -0.0000, -0.8555,  0.8986],\n",
              "         [-0.0000, -0.0000, -1.8342, -0.0000,  0.0000,  1.7805, -0.6954,\n",
              "          -0.0000, -1.8962, -2.2625],\n",
              "         [ 3.1083,  0.0000, -0.0000,  0.0000,  0.0000,  1.1674,  0.0000,\n",
              "           0.2889, -0.1109,  0.2992]],\n",
              "\n",
              "        [[-0.0000, -0.0000, -1.4332,  0.0000,  1.1428, -0.0000, -1.8993,\n",
              "          -0.0000, -0.1414, -2.1258],\n",
              "         [-0.0000,  0.0000,  4.5607, -0.0000,  0.0000, -1.2468, -2.8779,\n",
              "           0.0000,  3.4120,  3.1825],\n",
              "         [-1.0823,  0.0000, -0.0000, -0.0000, -0.0000, -1.9965, -0.0000,\n",
              "           3.1636, -1.3893, -1.9525]],\n",
              "\n",
              "        [[-0.0000,  0.0000,  4.0567, -0.0000,  0.4405,  0.0000,  3.2003,\n",
              "          -0.0000,  0.2564, -2.6103],\n",
              "         [-0.0000, -0.0000, -1.3696,  0.0000, -0.0000, -3.4970, -2.3555,\n",
              "          -0.0000, -0.7992,  1.4239],\n",
              "         [ 0.8651,  0.0000,  0.0000,  0.0000,  0.0000, -1.1365, -0.0000,\n",
              "          -1.2355, -1.8507, -0.8227]]])"
            ]
          },
          "metadata": {
            "tags": []
          },
          "execution_count": 11
        }
      ]
    },
    {
      "cell_type": "code",
      "metadata": {
        "id": "YpcfWLgQt-it",
        "colab_type": "code",
        "colab": {
          "base_uri": "https://localhost:8080/",
          "height": 50
        },
        "outputId": "23d1f7de-fef2-43a0-a4f8-046cbe8708ed"
      },
      "source": [
        "import numpy as np\n",
        "import time\n",
        "Size = 100000\n",
        "list1 = range(Size)\n",
        "list2 = range(Size)\n",
        "arr1 = np.arange(Size)\n",
        "arr2 = np.arange(Size)\n",
        "start = time.time()\n",
        "result = [(x, y) for x, y in zip(list1, list2)]\n",
        "print(\"Time for Python List in msec: \", (time.time() - start) * 1000)\n",
        "start = time.time()\n",
        "result = arr1, arr2\n",
        "print(\"Time for NumPy array in msec: \", (time.time()- start) * 1000)"
      ],
      "execution_count": 20,
      "outputs": [
        {
          "output_type": "stream",
          "text": [
            "Time for Python List in msec:  21.469831466674805\n",
            "Time for NumPy array in msec:  4.671335220336914\n"
          ],
          "name": "stdout"
        }
      ]
    },
    {
      "cell_type": "code",
      "metadata": {
        "id": "5Vt0ukVjgAGG",
        "colab_type": "code",
        "colab": {}
      },
      "source": [
        ""
      ],
      "execution_count": 0,
      "outputs": []
    }
  ]
}