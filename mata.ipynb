{
  "nbformat": 4,
  "nbformat_minor": 0,
  "metadata": {
    "colab": {
      "name": "mata.ipynb",
      "provenance": [],
      "collapsed_sections": [],
      "include_colab_link": true
    },
    "kernelspec": {
      "name": "python3",
      "display_name": "Python 3"
    },
    "widgets": {
      "application/vnd.jupyter.widget-state+json": {
        "564a4ef57ccb42b28e88942547ac7f0a": {
          "model_module": "@jupyter-widgets/controls",
          "model_name": "HBoxModel",
          "state": {
            "_view_name": "HBoxView",
            "_dom_classes": [],
            "_model_name": "HBoxModel",
            "_view_module": "@jupyter-widgets/controls",
            "_model_module_version": "1.5.0",
            "_view_count": null,
            "_view_module_version": "1.5.0",
            "box_style": "",
            "layout": "IPY_MODEL_9598ccda3df34aa5aa309c7be5315413",
            "_model_module": "@jupyter-widgets/controls",
            "children": [
              "IPY_MODEL_a111407aeb194ce98bd519896366e462",
              "IPY_MODEL_113ca1ed41ac4ffc95f0a5aba34216c1"
            ]
          }
        },
        "9598ccda3df34aa5aa309c7be5315413": {
          "model_module": "@jupyter-widgets/base",
          "model_name": "LayoutModel",
          "state": {
            "_view_name": "LayoutView",
            "grid_template_rows": null,
            "right": null,
            "justify_content": null,
            "_view_module": "@jupyter-widgets/base",
            "overflow": null,
            "_model_module_version": "1.2.0",
            "_view_count": null,
            "flex_flow": null,
            "width": null,
            "min_width": null,
            "border": null,
            "align_items": null,
            "bottom": null,
            "_model_module": "@jupyter-widgets/base",
            "top": null,
            "grid_column": null,
            "overflow_y": null,
            "overflow_x": null,
            "grid_auto_flow": null,
            "grid_area": null,
            "grid_template_columns": null,
            "flex": null,
            "_model_name": "LayoutModel",
            "justify_items": null,
            "grid_row": null,
            "max_height": null,
            "align_content": null,
            "visibility": null,
            "align_self": null,
            "height": null,
            "min_height": null,
            "padding": null,
            "grid_auto_rows": null,
            "grid_gap": null,
            "max_width": null,
            "order": null,
            "_view_module_version": "1.2.0",
            "grid_template_areas": null,
            "object_position": null,
            "object_fit": null,
            "grid_auto_columns": null,
            "margin": null,
            "display": null,
            "left": null
          }
        },
        "a111407aeb194ce98bd519896366e462": {
          "model_module": "@jupyter-widgets/controls",
          "model_name": "IntProgressModel",
          "state": {
            "_view_name": "ProgressView",
            "style": "IPY_MODEL_b11a7c4ebacf4c9f814fdba3dd17d408",
            "_dom_classes": [],
            "description": "",
            "_model_name": "IntProgressModel",
            "bar_style": "success",
            "max": 4464,
            "_view_module": "@jupyter-widgets/controls",
            "_model_module_version": "1.5.0",
            "value": 4464,
            "_view_count": null,
            "_view_module_version": "1.5.0",
            "orientation": "horizontal",
            "min": 0,
            "description_tooltip": null,
            "_model_module": "@jupyter-widgets/controls",
            "layout": "IPY_MODEL_959623c24f0a4b729b417f3df531c5c7"
          }
        },
        "113ca1ed41ac4ffc95f0a5aba34216c1": {
          "model_module": "@jupyter-widgets/controls",
          "model_name": "HTMLModel",
          "state": {
            "_view_name": "HTMLView",
            "style": "IPY_MODEL_5df2804c49d948ab96975aeff11fe836",
            "_dom_classes": [],
            "description": "",
            "_model_name": "HTMLModel",
            "placeholder": "​",
            "_view_module": "@jupyter-widgets/controls",
            "_model_module_version": "1.5.0",
            "value": "100% 4464/4464 [57:15&lt;00:00,  1.30it/s]",
            "_view_count": null,
            "_view_module_version": "1.5.0",
            "description_tooltip": null,
            "_model_module": "@jupyter-widgets/controls",
            "layout": "IPY_MODEL_a3ed21da729948739403b90f2fc73834"
          }
        },
        "b11a7c4ebacf4c9f814fdba3dd17d408": {
          "model_module": "@jupyter-widgets/controls",
          "model_name": "ProgressStyleModel",
          "state": {
            "_view_name": "StyleView",
            "_model_name": "ProgressStyleModel",
            "description_width": "",
            "_view_module": "@jupyter-widgets/base",
            "_model_module_version": "1.5.0",
            "_view_count": null,
            "_view_module_version": "1.2.0",
            "bar_color": null,
            "_model_module": "@jupyter-widgets/controls"
          }
        },
        "959623c24f0a4b729b417f3df531c5c7": {
          "model_module": "@jupyter-widgets/base",
          "model_name": "LayoutModel",
          "state": {
            "_view_name": "LayoutView",
            "grid_template_rows": null,
            "right": null,
            "justify_content": null,
            "_view_module": "@jupyter-widgets/base",
            "overflow": null,
            "_model_module_version": "1.2.0",
            "_view_count": null,
            "flex_flow": null,
            "width": null,
            "min_width": null,
            "border": null,
            "align_items": null,
            "bottom": null,
            "_model_module": "@jupyter-widgets/base",
            "top": null,
            "grid_column": null,
            "overflow_y": null,
            "overflow_x": null,
            "grid_auto_flow": null,
            "grid_area": null,
            "grid_template_columns": null,
            "flex": null,
            "_model_name": "LayoutModel",
            "justify_items": null,
            "grid_row": null,
            "max_height": null,
            "align_content": null,
            "visibility": null,
            "align_self": null,
            "height": null,
            "min_height": null,
            "padding": null,
            "grid_auto_rows": null,
            "grid_gap": null,
            "max_width": null,
            "order": null,
            "_view_module_version": "1.2.0",
            "grid_template_areas": null,
            "object_position": null,
            "object_fit": null,
            "grid_auto_columns": null,
            "margin": null,
            "display": null,
            "left": null
          }
        },
        "5df2804c49d948ab96975aeff11fe836": {
          "model_module": "@jupyter-widgets/controls",
          "model_name": "DescriptionStyleModel",
          "state": {
            "_view_name": "StyleView",
            "_model_name": "DescriptionStyleModel",
            "description_width": "",
            "_view_module": "@jupyter-widgets/base",
            "_model_module_version": "1.5.0",
            "_view_count": null,
            "_view_module_version": "1.2.0",
            "_model_module": "@jupyter-widgets/controls"
          }
        },
        "a3ed21da729948739403b90f2fc73834": {
          "model_module": "@jupyter-widgets/base",
          "model_name": "LayoutModel",
          "state": {
            "_view_name": "LayoutView",
            "grid_template_rows": null,
            "right": null,
            "justify_content": null,
            "_view_module": "@jupyter-widgets/base",
            "overflow": null,
            "_model_module_version": "1.2.0",
            "_view_count": null,
            "flex_flow": null,
            "width": null,
            "min_width": null,
            "border": null,
            "align_items": null,
            "bottom": null,
            "_model_module": "@jupyter-widgets/base",
            "top": null,
            "grid_column": null,
            "overflow_y": null,
            "overflow_x": null,
            "grid_auto_flow": null,
            "grid_area": null,
            "grid_template_columns": null,
            "flex": null,
            "_model_name": "LayoutModel",
            "justify_items": null,
            "grid_row": null,
            "max_height": null,
            "align_content": null,
            "visibility": null,
            "align_self": null,
            "height": null,
            "min_height": null,
            "padding": null,
            "grid_auto_rows": null,
            "grid_gap": null,
            "max_width": null,
            "order": null,
            "_view_module_version": "1.2.0",
            "grid_template_areas": null,
            "object_position": null,
            "object_fit": null,
            "grid_auto_columns": null,
            "margin": null,
            "display": null,
            "left": null
          }
        },
        "af17c5510d1540c48985b60eb29ccfb3": {
          "model_module": "@jupyter-widgets/controls",
          "model_name": "HBoxModel",
          "state": {
            "_view_name": "HBoxView",
            "_dom_classes": [],
            "_model_name": "HBoxModel",
            "_view_module": "@jupyter-widgets/controls",
            "_model_module_version": "1.5.0",
            "_view_count": null,
            "_view_module_version": "1.5.0",
            "box_style": "",
            "layout": "IPY_MODEL_c8eaf6ccf4cc41798dcd5a164dde9c22",
            "_model_module": "@jupyter-widgets/controls",
            "children": [
              "IPY_MODEL_08f1afa622a942be9cfe6984d3140d19",
              "IPY_MODEL_cd13cb7b28d7400d9e6adadaa769ba39"
            ]
          }
        },
        "c8eaf6ccf4cc41798dcd5a164dde9c22": {
          "model_module": "@jupyter-widgets/base",
          "model_name": "LayoutModel",
          "state": {
            "_view_name": "LayoutView",
            "grid_template_rows": null,
            "right": null,
            "justify_content": null,
            "_view_module": "@jupyter-widgets/base",
            "overflow": null,
            "_model_module_version": "1.2.0",
            "_view_count": null,
            "flex_flow": null,
            "width": null,
            "min_width": null,
            "border": null,
            "align_items": null,
            "bottom": null,
            "_model_module": "@jupyter-widgets/base",
            "top": null,
            "grid_column": null,
            "overflow_y": null,
            "overflow_x": null,
            "grid_auto_flow": null,
            "grid_area": null,
            "grid_template_columns": null,
            "flex": null,
            "_model_name": "LayoutModel",
            "justify_items": null,
            "grid_row": null,
            "max_height": null,
            "align_content": null,
            "visibility": null,
            "align_self": null,
            "height": null,
            "min_height": null,
            "padding": null,
            "grid_auto_rows": null,
            "grid_gap": null,
            "max_width": null,
            "order": null,
            "_view_module_version": "1.2.0",
            "grid_template_areas": null,
            "object_position": null,
            "object_fit": null,
            "grid_auto_columns": null,
            "margin": null,
            "display": null,
            "left": null
          }
        },
        "08f1afa622a942be9cfe6984d3140d19": {
          "model_module": "@jupyter-widgets/controls",
          "model_name": "IntProgressModel",
          "state": {
            "_view_name": "ProgressView",
            "style": "IPY_MODEL_2dbb1b2dd4314d97b4d2b1b4d7a9e119",
            "_dom_classes": [],
            "description": "",
            "_model_name": "IntProgressModel",
            "bar_style": "danger",
            "max": 4239,
            "_view_module": "@jupyter-widgets/controls",
            "_model_module_version": "1.5.0",
            "value": 39,
            "_view_count": null,
            "_view_module_version": "1.5.0",
            "orientation": "horizontal",
            "min": 0,
            "description_tooltip": null,
            "_model_module": "@jupyter-widgets/controls",
            "layout": "IPY_MODEL_9fbf094ec1024e85a933d98f979d63a8"
          }
        },
        "cd13cb7b28d7400d9e6adadaa769ba39": {
          "model_module": "@jupyter-widgets/controls",
          "model_name": "HTMLModel",
          "state": {
            "_view_name": "HTMLView",
            "style": "IPY_MODEL_ca46ec32d5f04debbb07a4c384a42783",
            "_dom_classes": [],
            "description": "",
            "_model_name": "HTMLModel",
            "placeholder": "​",
            "_view_module": "@jupyter-widgets/controls",
            "_model_module_version": "1.5.0",
            "value": "  1% 39/4239 [1:49:45&lt;494:45:36, 424.08s/it]",
            "_view_count": null,
            "_view_module_version": "1.5.0",
            "description_tooltip": null,
            "_model_module": "@jupyter-widgets/controls",
            "layout": "IPY_MODEL_20723f3c2fcb4298b8010bd3cd919d71"
          }
        },
        "2dbb1b2dd4314d97b4d2b1b4d7a9e119": {
          "model_module": "@jupyter-widgets/controls",
          "model_name": "ProgressStyleModel",
          "state": {
            "_view_name": "StyleView",
            "_model_name": "ProgressStyleModel",
            "description_width": "",
            "_view_module": "@jupyter-widgets/base",
            "_model_module_version": "1.5.0",
            "_view_count": null,
            "_view_module_version": "1.2.0",
            "bar_color": null,
            "_model_module": "@jupyter-widgets/controls"
          }
        },
        "9fbf094ec1024e85a933d98f979d63a8": {
          "model_module": "@jupyter-widgets/base",
          "model_name": "LayoutModel",
          "state": {
            "_view_name": "LayoutView",
            "grid_template_rows": null,
            "right": null,
            "justify_content": null,
            "_view_module": "@jupyter-widgets/base",
            "overflow": null,
            "_model_module_version": "1.2.0",
            "_view_count": null,
            "flex_flow": null,
            "width": null,
            "min_width": null,
            "border": null,
            "align_items": null,
            "bottom": null,
            "_model_module": "@jupyter-widgets/base",
            "top": null,
            "grid_column": null,
            "overflow_y": null,
            "overflow_x": null,
            "grid_auto_flow": null,
            "grid_area": null,
            "grid_template_columns": null,
            "flex": null,
            "_model_name": "LayoutModel",
            "justify_items": null,
            "grid_row": null,
            "max_height": null,
            "align_content": null,
            "visibility": null,
            "align_self": null,
            "height": null,
            "min_height": null,
            "padding": null,
            "grid_auto_rows": null,
            "grid_gap": null,
            "max_width": null,
            "order": null,
            "_view_module_version": "1.2.0",
            "grid_template_areas": null,
            "object_position": null,
            "object_fit": null,
            "grid_auto_columns": null,
            "margin": null,
            "display": null,
            "left": null
          }
        },
        "ca46ec32d5f04debbb07a4c384a42783": {
          "model_module": "@jupyter-widgets/controls",
          "model_name": "DescriptionStyleModel",
          "state": {
            "_view_name": "StyleView",
            "_model_name": "DescriptionStyleModel",
            "description_width": "",
            "_view_module": "@jupyter-widgets/base",
            "_model_module_version": "1.5.0",
            "_view_count": null,
            "_view_module_version": "1.2.0",
            "_model_module": "@jupyter-widgets/controls"
          }
        },
        "20723f3c2fcb4298b8010bd3cd919d71": {
          "model_module": "@jupyter-widgets/base",
          "model_name": "LayoutModel",
          "state": {
            "_view_name": "LayoutView",
            "grid_template_rows": null,
            "right": null,
            "justify_content": null,
            "_view_module": "@jupyter-widgets/base",
            "overflow": null,
            "_model_module_version": "1.2.0",
            "_view_count": null,
            "flex_flow": null,
            "width": null,
            "min_width": null,
            "border": null,
            "align_items": null,
            "bottom": null,
            "_model_module": "@jupyter-widgets/base",
            "top": null,
            "grid_column": null,
            "overflow_y": null,
            "overflow_x": null,
            "grid_auto_flow": null,
            "grid_area": null,
            "grid_template_columns": null,
            "flex": null,
            "_model_name": "LayoutModel",
            "justify_items": null,
            "grid_row": null,
            "max_height": null,
            "align_content": null,
            "visibility": null,
            "align_self": null,
            "height": null,
            "min_height": null,
            "padding": null,
            "grid_auto_rows": null,
            "grid_gap": null,
            "max_width": null,
            "order": null,
            "_view_module_version": "1.2.0",
            "grid_template_areas": null,
            "object_position": null,
            "object_fit": null,
            "grid_auto_columns": null,
            "margin": null,
            "display": null,
            "left": null
          }
        }
      }
    }
  },
  "cells": [
    {
      "cell_type": "markdown",
      "metadata": {
        "id": "view-in-github",
        "colab_type": "text"
      },
      "source": [
        "<a href=\"https://colab.research.google.com/github/ASDF44/NLP/blob/master/mata.ipynb\" target=\"_parent\"><img src=\"https://colab.research.google.com/assets/colab-badge.svg\" alt=\"Open In Colab\"/></a>"
      ]
    },
    {
      "cell_type": "code",
      "metadata": {
        "id": "8kMGuQxvTGok",
        "colab_type": "code",
        "outputId": "5fbb7cc2-e8fe-4d89-db77-bf6e8a1f74aa",
        "colab": {
          "base_uri": "https://localhost:8080/",
          "height": 123
        }
      },
      "source": [
        "import requests\n",
        "import bs4\n",
        "from google.colab import drive\n",
        "drive.mount('/content/drive/')\n",
        "# sample = https://maharashtratimes.indiatimes.com/archivelist.cms?year=2011&month=1&starttime=43466"
      ],
      "execution_count": 0,
      "outputs": [
        {
          "output_type": "stream",
          "text": [
            "Go to this URL in a browser: https://accounts.google.com/o/oauth2/auth?client_id=947318989803-6bn6qk8qdgf4n4g3pfee6491hc0brc4i.apps.googleusercontent.com&redirect_uri=urn%3aietf%3awg%3aoauth%3a2.0%3aoob&response_type=code&scope=email%20https%3a%2f%2fwww.googleapis.com%2fauth%2fdocs.test%20https%3a%2f%2fwww.googleapis.com%2fauth%2fdrive%20https%3a%2f%2fwww.googleapis.com%2fauth%2fdrive.photos.readonly%20https%3a%2f%2fwww.googleapis.com%2fauth%2fpeopleapi.readonly\n",
            "\n",
            "Enter your authorization code:\n",
            "··········\n",
            "Mounted at /content/drive/\n"
          ],
          "name": "stdout"
        }
      ]
    },
    {
      "cell_type": "code",
      "metadata": {
        "id": "_m3ICQvbTlFN",
        "colab_type": "code",
        "colab": {}
      },
      "source": [
        "links = dict(zip([(i, j, k) for i in range(2008, 2020) for j in range(1,13) for k in range(1,32)], [0 for m in range(17*12*31)]))"
      ],
      "execution_count": 0,
      "outputs": []
    },
    {
      "cell_type": "code",
      "metadata": {
        "id": "IsNo4FdMT1y1",
        "colab_type": "code",
        "colab": {}
      },
      "source": [
        "def leapYear(y):\n",
        "    if y % 400 == 0:\n",
        "        return 29\n",
        "    elif y % 100 == 0:\n",
        "        return 28\n",
        "    elif y % 4 == 0:\n",
        "        return 29\n",
        "    return 28"
      ],
      "execution_count": 0,
      "outputs": []
    },
    {
      "cell_type": "code",
      "metadata": {
        "id": "7cUTDH8_USB8",
        "colab_type": "code",
        "colab": {}
      },
      "source": [
        "def days(m, y):\n",
        "    if m == 2:\n",
        "        return leapYear(y)\n",
        "    elif m <= 7:\n",
        "        if m % 2 == 0:\n",
        "            return 30\n",
        "        else:\n",
        "            return 31\n",
        "    else:\n",
        "        if m % 2 == 0:\n",
        "            return 31\n",
        "        else:\n",
        "            return 30"
      ],
      "execution_count": 0,
      "outputs": []
    },
    {
      "cell_type": "code",
      "metadata": {
        "id": "Y228apHVUSXL",
        "colab_type": "code",
        "outputId": "5a1d666b-7d8a-4bab-f712-ad454f75218b",
        "colab": {
          "base_uri": "https://localhost:8080/",
          "height": 34
        }
      },
      "source": [
        "idx = 39376\n",
        "for k in links.keys():\n",
        "    if k[2] < days(k[1], k[0]):\n",
        "        links[k] = idx\n",
        "        idx += 1\n",
        "links[(2008, 1, 1)]"
      ],
      "execution_count": 0,
      "outputs": [
        {
          "output_type": "execute_result",
          "data": {
            "text/plain": [
              "39376"
            ]
          },
          "metadata": {
            "tags": []
          },
          "execution_count": 8
        }
      ]
    },
    {
      "cell_type": "code",
      "metadata": {
        "id": "SdeLd8vOUTp9",
        "colab_type": "code",
        "outputId": "e78dda13-60d1-4d3a-b613-7b6eb11b9622",
        "colab": {
          "base_uri": "https://localhost:8080/",
          "height": 66,
          "referenced_widgets": [
            "564a4ef57ccb42b28e88942547ac7f0a",
            "9598ccda3df34aa5aa309c7be5315413",
            "a111407aeb194ce98bd519896366e462",
            "113ca1ed41ac4ffc95f0a5aba34216c1",
            "b11a7c4ebacf4c9f814fdba3dd17d408",
            "959623c24f0a4b729b417f3df531c5c7",
            "5df2804c49d948ab96975aeff11fe836",
            "a3ed21da729948739403b90f2fc73834"
          ]
        }
      },
      "source": [
        "from tqdm import tqdm_notebook\n",
        "root = 'https://maharashtratimes.indiatimes.com/archivelist.cms?year='\n",
        "newslinks = {}\n",
        "for k in tqdm_notebook(links.keys()):\n",
        "    if links[k] != 0:\n",
        "        url = root + str(k[0]) + '&month=' + str(k[1]) + '&starttime=' + str(links[k])\n",
        "        newslinks[str(k[0])+'-'+str(k[1])+'-'+str(k[2])] = []\n",
        "        response = requests.get(url)\n",
        "        soup = bs4.BeautifulSoup(response.text, 'html.parser')\n",
        "        for i in soup.find_all('a', href=True):\n",
        "            # print(i['href'])\n",
        "            # break\n",
        "            if i['href'].startswith('/articleshow/'):\n",
        "                newslinks[str(k[0])+'-'+str(k[1])+'-'+str(k[2])].append(i['href'])\n",
        "    \n",
        "import json\n",
        "with open('/content/drive/My Drive/articles.json', 'w') as fp:\n",
        "    json.dump(newslinks, fp) "
      ],
      "execution_count": 0,
      "outputs": [
        {
          "output_type": "display_data",
          "data": {
            "application/vnd.jupyter.widget-view+json": {
              "model_id": "564a4ef57ccb42b28e88942547ac7f0a",
              "version_minor": 0,
              "version_major": 2
            },
            "text/plain": [
              "HBox(children=(IntProgress(value=0, max=4464), HTML(value='')))"
            ]
          },
          "metadata": {
            "tags": []
          }
        },
        {
          "output_type": "stream",
          "text": [
            "\n"
          ],
          "name": "stdout"
        }
      ]
    },
    {
      "cell_type": "code",
      "metadata": {
        "id": "z6eNw0PZVh_o",
        "colab_type": "code",
        "outputId": "23d86ef3-2a3b-4cfb-f69d-3249de73eadd",
        "colab": {
          "base_uri": "https://localhost:8080/",
          "height": 35
        }
      },
      "source": [
        "x = \"योगेश मेहेंदळे, मुंबई'पाल-प्युजो'च्या जमिनीचा लिलाव होऊन आपल्याला थकित देणी मिळतील, अशी आशा या कंपनीच्या कामगारांना लागली असली तरी यूएलसी रद्द झाल्याच्या पार्श्वभूमीवर बिल्डर मंडळी या लिलाव व्यवहारातून बाहेर पडण्याची शक्यता असून त्यामुळे कामगारांना देणी मिळण्याबाबत अनिश्चितता निर्माण झाली आहे. यूएलसी रद्द होण्यापूवीर् शक्य तेवढी जमीन मुंबई व परिसरात विकत घेऊन 'लँड बँक' वाढवण्याचे बिल्डर्स व डेव्हलपर्सचे धोरण होते. त्यानुसार पाल-प्युजोच्या मालकीची १८१ एकर जमीन घेण्यासाठी अनेक बिल्डर्सनी रस दाखवला होता. त्याची निविदाप्रक्रिया २६ डिसेंबरला होणार होती. त्यावेळी निविदा भरलेल्या काही कंपन्यांनी व्यवहारासंदर्भात सविस्तर माहिती मागितली; ती कोर्ट रिसीव्हरना देता न आल्याने हायकोर्टाने ही प्रक्रिया १० डिसेंबरपर्यंत पुढे ढकलली. त्याचदरम्यान, गुरुवारी यूएलसी रद्द होऊन लँड बँक जणू खुलीच झाली. त्यामुळे उपलब्ध झालेल्या अनेक पर्यायांमुळे पाल-प्युजोच्या ताब्यातील जमिनीची मागणी व परिणामी भाव एकदम घसरला आहे. या जमिनीच्या व्यवहारात आता आपल्याला रस नाही, असे 'हिरानंदानी बिल्डर्स'चे निरंजन हिरानंदानी यांनी 'मटा'ला सांगितले. जमीनलिलावातून ७०० कोटी रुपये उभे राहतील आणि त्याचा आपल्याला फायदा होईल, अशी कंपनी तसेच कामगार या दोघांचीही अपेक्षा होती. मात्र बदललेल्या परिस्थितीत आता कामगारांच्या पदरात काय पडेल, हे सांगणे कठीण असल्याचे या क्षेत्रातील तज्ज्ञांचे मत आहे.\"\n",
        "len(x)"
      ],
      "execution_count": 0,
      "outputs": [
        {
          "output_type": "execute_result",
          "data": {
            "text/plain": [
              "1255"
            ]
          },
          "metadata": {
            "tags": []
          },
          "execution_count": 28
        }
      ]
    },
    {
      "cell_type": "code",
      "metadata": {
        "id": "f2wO3ZBciJSY",
        "colab_type": "code",
        "outputId": "cccf0150-1d6f-4303-d7e8-2c06661d5e85",
        "colab": {
          "base_uri": "https://localhost:8080/",
          "height": 35
        }
      },
      "source": [
        "k"
      ],
      "execution_count": 0,
      "outputs": [
        {
          "output_type": "execute_result",
          "data": {
            "text/plain": [
              "'2008-1-11'"
            ]
          },
          "metadata": {
            "tags": []
          },
          "execution_count": 36
        }
      ]
    },
    {
      "cell_type": "code",
      "metadata": {
        "id": "WOTR4q1Pm8by",
        "colab_type": "code",
        "outputId": "153aaa89-880b-4640-f7df-dd980258fddd",
        "colab": {
          "base_uri": "https://localhost:8080/",
          "height": 35
        }
      },
      "source": [
        "index"
      ],
      "execution_count": 0,
      "outputs": [
        {
          "output_type": "execute_result",
          "data": {
            "text/plain": [
              "47"
            ]
          },
          "metadata": {
            "tags": []
          },
          "execution_count": 55
        }
      ]
    },
    {
      "cell_type": "code",
      "metadata": {
        "id": "FUyKqnFJ-Hjq",
        "colab_type": "code",
        "outputId": "1de55799-fcfe-4163-e6e2-8cf1d65fe369",
        "colab": {
          "base_uri": "https://localhost:8080/",
          "height": 289,
          "referenced_widgets": [
            "af17c5510d1540c48985b60eb29ccfb3",
            "c8eaf6ccf4cc41798dcd5a164dde9c22",
            "08f1afa622a942be9cfe6984d3140d19",
            "cd13cb7b28d7400d9e6adadaa769ba39",
            "2dbb1b2dd4314d97b4d2b1b4d7a9e119",
            "9fbf094ec1024e85a933d98f979d63a8",
            "ca46ec32d5f04debbb07a4c384a42783",
            "20723f3c2fcb4298b8010bd3cd919d71"
          ]
        }
      },
      "source": [
        "from tqdm import tqdm_notebook\n",
        "import json\n",
        "import time \n",
        "import random\n",
        "news = {}\n",
        "print(index)\n",
        "index += 1\n",
        "with open('/content/drive/My Drive/articles.json', 'r') as fp:\n",
        "  newslinks = json.load(fp)\n",
        "root = 'https://maharashtratimes.indiatimes.com'\n",
        "for k in tqdm_notebook(newslinks.keys()):\n",
        "    # print(int(k[:4]))\n",
        "    # print(int(k[5:6]))\n",
        "    # print(int(k[7:]))\n",
        "    ctr = 1\n",
        "    if int(k[:4]) == 2008 and int(k[5:6]) == 1 and int(k[7:]) < 11:\n",
        "        continue\n",
        "    # print(\"Inside for loop\",k)\n",
        "\n",
        "    for link in newslinks[k]:\n",
        "        if ctr % 10 == 0:\n",
        "            index += 1\n",
        "            with open('/content/drive/My Drive/news' + str(index) +'.json', 'w') as fp:\n",
        "                json.dump(news, fp) \n",
        "            news = {}\n",
        "        time.sleep(random.randint(5,20))\n",
        "        try:\n",
        "            r = requests.get(root + link, allow_redirects = True)\n",
        "        except requests.exceptions.TooManyRedirects as e:\n",
        "            # print(\"error\")\n",
        "            continue\n",
        "\n",
        "        soup = bs4.BeautifulSoup(r.text);\n",
        "        for i in soup.find_all('h1'):\n",
        "            title = i.text  \n",
        "        for i in soup.find_all('div', {'class':'Normal'}):\n",
        "            article = i.text\n",
        "        ctr += 1\n",
        "        news[title] = article\n",
        "        \n",
        "        \n",
        "\n",
        "# with open('/content/drive/My Drive/news.json', 'w') as fp:\n",
        "#     json.dump(newslinks, fp) "
      ],
      "execution_count": 0,
      "outputs": [
        {
          "output_type": "stream",
          "text": [
            "47\n"
          ],
          "name": "stdout"
        },
        {
          "output_type": "display_data",
          "data": {
            "application/vnd.jupyter.widget-view+json": {
              "model_id": "af17c5510d1540c48985b60eb29ccfb3",
              "version_minor": 0,
              "version_major": 2
            },
            "text/plain": [
              "HBox(children=(IntProgress(value=0, max=4239), HTML(value='')))"
            ]
          },
          "metadata": {
            "tags": []
          }
        },
        {
          "output_type": "error",
          "ename": "KeyboardInterrupt",
          "evalue": "ignored",
          "traceback": [
            "\u001b[0;31m---------------------------------------------------------------------------\u001b[0m",
            "\u001b[0;31mKeyboardInterrupt\u001b[0m                         Traceback (most recent call last)",
            "\u001b[0;32m<ipython-input-56-21b25cb3840b>\u001b[0m in \u001b[0;36m<module>\u001b[0;34m()\u001b[0m\n\u001b[1;32m     24\u001b[0m                 \u001b[0mjson\u001b[0m\u001b[0;34m.\u001b[0m\u001b[0mdump\u001b[0m\u001b[0;34m(\u001b[0m\u001b[0mnews\u001b[0m\u001b[0;34m,\u001b[0m \u001b[0mfp\u001b[0m\u001b[0;34m)\u001b[0m\u001b[0;34m\u001b[0m\u001b[0;34m\u001b[0m\u001b[0m\n\u001b[1;32m     25\u001b[0m             \u001b[0mnews\u001b[0m \u001b[0;34m=\u001b[0m \u001b[0;34m{\u001b[0m\u001b[0;34m}\u001b[0m\u001b[0;34m\u001b[0m\u001b[0;34m\u001b[0m\u001b[0m\n\u001b[0;32m---> 26\u001b[0;31m         \u001b[0mtime\u001b[0m\u001b[0;34m.\u001b[0m\u001b[0msleep\u001b[0m\u001b[0;34m(\u001b[0m\u001b[0mrandom\u001b[0m\u001b[0;34m.\u001b[0m\u001b[0mrandint\u001b[0m\u001b[0;34m(\u001b[0m\u001b[0;36m5\u001b[0m\u001b[0;34m,\u001b[0m\u001b[0;36m20\u001b[0m\u001b[0;34m)\u001b[0m\u001b[0;34m)\u001b[0m\u001b[0;34m\u001b[0m\u001b[0;34m\u001b[0m\u001b[0m\n\u001b[0m\u001b[1;32m     27\u001b[0m         \u001b[0;32mtry\u001b[0m\u001b[0;34m:\u001b[0m\u001b[0;34m\u001b[0m\u001b[0;34m\u001b[0m\u001b[0m\n\u001b[1;32m     28\u001b[0m             \u001b[0mr\u001b[0m \u001b[0;34m=\u001b[0m \u001b[0mrequests\u001b[0m\u001b[0;34m.\u001b[0m\u001b[0mget\u001b[0m\u001b[0;34m(\u001b[0m\u001b[0mroot\u001b[0m \u001b[0;34m+\u001b[0m \u001b[0mlink\u001b[0m\u001b[0;34m,\u001b[0m \u001b[0mallow_redirects\u001b[0m \u001b[0;34m=\u001b[0m \u001b[0;32mTrue\u001b[0m\u001b[0;34m)\u001b[0m\u001b[0;34m\u001b[0m\u001b[0;34m\u001b[0m\u001b[0m\n",
            "\u001b[0;31mKeyboardInterrupt\u001b[0m: "
          ]
        }
      ]
    },
    {
      "cell_type": "code",
      "metadata": {
        "id": "sY2HAmgH_q3C",
        "colab_type": "code",
        "outputId": "1b471f22-b1fe-486a-be2f-7a8cbb029e5e",
        "colab": {
          "base_uri": "https://localhost:8080/",
          "height": 35
        }
      },
      "source": [
        "k"
      ],
      "execution_count": 0,
      "outputs": [
        {
          "output_type": "execute_result",
          "data": {
            "text/plain": [
              "'2008-2-10'"
            ]
          },
          "metadata": {
            "tags": []
          },
          "execution_count": 57
        }
      ]
    },
    {
      "cell_type": "code",
      "metadata": {
        "id": "xmUOMEZOiaKR",
        "colab_type": "code",
        "outputId": "c96db6b7-95be-4dac-82fe-373b32d68735",
        "colab": {
          "base_uri": "https://localhost:8080/",
          "height": 35
        }
      },
      "source": [
        "index"
      ],
      "execution_count": 0,
      "outputs": [
        {
          "output_type": "execute_result",
          "data": {
            "text/plain": [
              "84"
            ]
          },
          "metadata": {
            "tags": []
          },
          "execution_count": 58
        }
      ]
    },
    {
      "cell_type": "code",
      "metadata": {
        "id": "wMOuwSS1icIb",
        "colab_type": "code",
        "outputId": "231fb8f0-3e5a-4ffb-e38e-7d59ecdceb7a",
        "colab": {
          "base_uri": "https://localhost:8080/",
          "height": 150
        }
      },
      "source": [
        "from tqdm import tqdm_notebook\n",
        "import json\n",
        "import time \n",
        "import random\n",
        "news = {}\n",
        "print(index)\n",
        "index += 1\n",
        "with open('/content/drive/My Drive/articles.json', 'r') as fp:\n",
        "  newslinks = json.load(fp)\n",
        "root = 'https://maharashtratimes.indiatimes.com'\n",
        "for k in tqdm_notebook(newslinks.keys()):\n",
        "    # print(int(k[:4]))\n",
        "    # print(int(k[5:6]))\n",
        "    # print(int(k[7:]))\n",
        "    ctr = 1\n",
        "    if int(k[:4]) == 2008 and int(k[5:6]) <= 1 and int(k[7:]) <=10):\n",
        "        continue\n",
        "    # print(\"Inside for loop\",k)\n",
        "\n",
        "    for link in newslinks[k]:\n",
        "        if ctr % 10 == 0:\n",
        "            index += 1\n",
        "            with open('/content/drive/My Drive/news' + str(index) +'.json', 'w') as fp:\n",
        "                json.dump(news, fp) \n",
        "            news = {}\n",
        "        time.sleep(random.randint(5,20))\n",
        "        try:\n",
        "            r = requests.get(root + link, allow_redirects = True)\n",
        "        except requests.exceptions.TooManyRedirects as e:\n",
        "            # print(\"error\")\n",
        "            continue\n",
        "\n",
        "        soup = bs4.BeautifulSoup(r.text);\n",
        "        for i in soup.find_all('h1'):\n",
        "            title = i.text  \n",
        "        for i in soup.find_all('div', {'class':'Normal'}):\n",
        "            article = i.text\n",
        "        ctr += 1\n",
        "        news[title] = article\n",
        "        \n",
        "        \n",
        "\n",
        "# with open('/content/drive/My Drive/news.json', 'w') as fp:\n",
        "#     json.dump(newslinks, fp) "
      ],
      "execution_count": 0,
      "outputs": [
        {
          "output_type": "error",
          "ename": "SyntaxError",
          "evalue": "ignored",
          "traceback": [
            "\u001b[0;36m  File \u001b[0;32m\"<ipython-input-2-f2686b809b32>\"\u001b[0;36m, line \u001b[0;32m16\u001b[0m\n\u001b[0;31m    if int(k[:4]) == 2008 and int(k[5:6]) <= 1 and int(k[7:]) <=10):\u001b[0m\n\u001b[0m                                                                  ^\u001b[0m\n\u001b[0;31mSyntaxError\u001b[0m\u001b[0;31m:\u001b[0m invalid syntax\n"
          ]
        }
      ]
    }
  ]
}